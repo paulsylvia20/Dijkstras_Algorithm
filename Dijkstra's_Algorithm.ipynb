{
 "cells": [
  {
   "cell_type": "markdown",
   "id": "8ffd64aa",
   "metadata": {},
   "source": [
    "## An Implementation of Dijkstra's Algorithm to a League of Legends Champion\n",
    "\n",
    "The aim of the project is to develop a full set of solutions to the Aphelios's rotating weapon system problem. In the end, we will create a table where each weapon state (row index) is paired to each other weapon state AND weapon cycle (column index). The only necessary input will be the network edge list, created separately (see ['Aphelios Network Define.xlsx'](https://github.com/paulsylvia20/Djikstras_Algorithm/blob/main/Aphelios%20Network%20Define.xlsx)). I will assume some basic familiarity with [edge lists](https://www.youtube.com/watch?v=83RbL8n3vYU), however, there are plenty of resources online for those who are unfamiliar.\n",
    "\n",
    "The path finding function maintains three running lists. First, it keeps a tally (dictionary) of all nodes that have been visited so far (visited_nodes). This ensures that when a node and its shortest path are found, the node is never revisited by longer paths. Second, the function maintains a priority list where current paths and their lengths are stored, sorted by length, then expanded to their adjacent nodes (paths). Third is the solutions list where shortest path(s) to a target node along with its length is stored when discovered. This is the final output of the algorithm (solutions).\n",
    "\n",
    "The original Dijkstra's algorithm is capable of finding every shortest path from a start node to every other node in the network. However, to keep the code concise, I will run Djikstra's algorithm once for each start-node -> target-node pairing. Future versions might optimize the algorithm by storing all shortest paths to each other node in the network, given a particular start-node, in a single pass."
   ]
  },
  {
   "cell_type": "code",
   "execution_count": null,
   "id": "01c73e33",
   "metadata": {},
   "outputs": [
    {
     "name": "stdout",
     "output_type": "stream",
     "text": [
      "  Source Target  Length         Label\n",
      "0    WRG    RGP       1  Base Network\n",
      "1    PRG    RGW       1  Base Network\n",
      "2    BRG    RGW       1  Base Network\n",
      "3    RWG    WGP       1  Base Network\n",
      "4    PWG    WGR       1  Base Network\n"
     ]
    }
   ],
   "source": [
    "import os\n",
    "import pandas as pd\n",
    "\n",
    "#os.chdir(\"your_path\")\n",
    "edges = pd.read_excel(\"Aphelios Network Define.xlsx\", sheet_name=\"Complete Network\") #dataframe: [[source, target, length],] <- str, str, int\n",
    "\n",
    "print(edges.head())"
   ]
  },
  {
   "cell_type": "markdown",
   "id": "210ed90f",
   "metadata": {},
   "source": [
    "#### Forward Stepping Function Inner\n",
    "This script is layed out like a Russian nesting doll, from the innermost to outerpost part of Dijkstra's algorithm. The innermost function, find_next_steps(), takes a path and spits out a list of all edges that would extend the path one step forward. It does this by opening the edges list and finding any of the edges that have the last node in the provided path as a 'Source' node. It eventally returns the edge list, but not before addressing 2 caveats.\n",
    "\n",
    "*Caveat 1* <br>\n",
    "An important element of Dijkstra's algorithm is that any nodes stepped-into this way must be marked 'visited.' We accomplish this directly inside of find_next_steps() by examining the output before returning, checking if the \"Target\" to any of the edges are in visited_nodes, removing them if they have, and marking them in visited_nodes if they haven't. We do this because the basic logic ensures that any visited nodes already have a shortest path. Thus, any future attempts to visit this node must involve longer or equal length paths.\n",
    "\n",
    "*Caveat 2* <br>\n",
    "In the standard algorithm, we would apply this logic by (a) checking whether a \"Target\" node is a member of visited_nodes and, if so, (b) preventing it from ever being visited again. However, the standard algorithm guarantees that we output exactly *one* shortest path for each start_node -> end_node pairing. But we would like to store *all* shortest paths, even if there are two or three of them (i.e., two paths going from start_node to end_node that are equal length). To accomplish this, we instruct the find_next_steps() function to only drop a path if it is in the visited_nodes dictionary AND the current path is longer than the known shortest distance to the start_node. Otherwise, the algorithm proceeds with all equivalent paths traveling together towards end_node. In the end, we will store all equivalent paths as solutions."
   ]
  },
  {
   "cell_type": "code",
   "execution_count": 3,
   "id": "fcdf9b26",
   "metadata": {},
   "outputs": [],
   "source": [
    "# Relevant input data structures\n",
    "paths = [] # [[length, ['list of nodes']], ...]\n",
    "visited_nodes = {} # \"Node index\": shortest dx from start, ...}\n",
    "\n",
    "# Define a function that takes previous path as input\n",
    "# Maps out the next steps while updating visited_nodes\n",
    "def find_next_steps(path, visited_nodes):\n",
    "    last_node = path[1][-1] # Takes the last node in the current path taken\n",
    "    \n",
    "    # Next we generate the next steps. We produce a list from the original edge list wherever the last_node was \"Source\".\n",
    "    next_steps = edges[edges[\"Source\"].str.contains(last_node)] #A pandas dataframe similar to the original edge list.\n",
    "\n",
    "    # Complex Updating of Visited and Next Nodes\n",
    "    for index, i in next_steps.iterrows(): # Iterate through the next_steps (row entries)\n",
    "        new_path_length = path[0] + i[\"Length\"] # Determine the new path length by adding edge length to the old path length.\n",
    "        if i[\"Target\"] in visited_nodes.keys() and new_path_length > visited_nodes[i[\"Target\"]]: #Check whether the new length is equivalent if already visited\n",
    "            next_steps = next_steps.drop(index) # Drop if longer\n",
    "\n",
    "        elif i[\"Target\"] not in visited_nodes.keys(): # Add to visited if not visited before\n",
    "            visited_nodes[i[\"Target\"]] = new_path_length\n",
    "\n",
    "    return next_steps, visited_nodes\n"
   ]
  },
  {
   "cell_type": "markdown",
   "id": "0e387ca7",
   "metadata": {},
   "source": [
    "#### Forward Stepping Function Outer\n",
    "We've implemented the basic process that needs to be conducted in order to properly find next steps along paths and avoid revisiting nodes. Now we have to ensure the steps are developed using the correct paths at the correct times. The aim of paths_one_step_forward() is to simply progress the paths by (a) finding and pulling the shortest running path in paths, (b) stepping it forward along all of its possible edges while marking visited nodes, and (c) replacing it in the queue with all of the new paths. This is the central iteration underlying Djikstra's algorithm:"
   ]
  },
  {
   "cell_type": "code",
   "execution_count": 4,
   "id": "e492a825",
   "metadata": {},
   "outputs": [],
   "source": [
    "paths = [] # [[length, ['list of nodes']], ... ]\n",
    "visited_nodes = {} # {\"Node index\": shortest dx from start, ...}\n",
    "\n",
    "def paths_one_step_forward(paths, visited_nodes):\n",
    "    import heapq\n",
    "\n",
    "    path = heapq.heappop(paths) # Pull the shortest running path, removing it from the priority list\n",
    "\n",
    "    next_steps, visited_nodes = find_next_steps(path, visited_nodes) # Identify the next steps and update the visited_nodes list\n",
    "\n",
    "    # For each next step, add it to the heap\n",
    "    for ind, j in next_steps.iterrows(): # Find the new full paths and lengths\n",
    "        new_path = path[1] + [j[\"Target\"]] # <- full path\n",
    "        new_length = path[0] + j[\"Length\"] # <- int\n",
    "        heapq.heappush(paths, [new_length, new_path]) # Append new\n",
    "\n",
    "    return paths, visited_nodes"
   ]
  },
  {
   "cell_type": "markdown",
   "id": "69b41031",
   "metadata": {},
   "source": [
    "### Final Implementation\n",
    "\n",
    "The algorithm is already almost entirely specified. We now just loop paths_one_step forward(). It will progress the search until it satisfies the condition of the loop while handling all necessary management of paths and visited_nodes lists. Since we are less concerned about optimization in this implementation, we will use a while-loop that performs a complete search of the network. At each iteration, we also check paths for solutions. If there is a solution, we store it in solutions, returned at the end. If there are multiple solutions, they will be concatenated into a list.\n",
    "\n",
    "Note, we have also added the nodes() utility function to enable a simple summarization of the edges list into a complete list of all network nodes."
   ]
  },
  {
   "cell_type": "code",
   "execution_count": 5,
   "id": "d30793f9",
   "metadata": {},
   "outputs": [],
   "source": [
    "class Network():\n",
    "    def __init__(self, edge_list):\n",
    "        # Here we've specified that the network class takes an edge_list as input which is common convention in network science.\n",
    "        # Future work can expand the number of data structures taken.\n",
    "        self.edges = edge_list\n",
    "    \n",
    "    # Finally we implement Djikstra's algorithm:\n",
    "    def path_find(self, start_node, target): #(self, string, string)\n",
    "        # We start the essential data structures empty, exept for paths which needs to nucleate \n",
    "        # with the starting node in place\n",
    "        visited_nodes = {} #{\"Node index\": shortest dx from start, ...}\n",
    "        paths = [[0,[start_node]]] #[[length, ['list of nodes']], ... ]\n",
    "        solutions = [] #[[length, ['list of nodes']], ... ]; usually 1 or 2 solutions, sometimes 3\n",
    "\n",
    "        # The while loop conducts the algorithm, iterating paths_one_step_forward()\n",
    "        # We could conduct the search using one line, but we also have to extract solutions. Hence, the for-loops to follow.\n",
    "        while len(paths) > 0:\n",
    "          paths, visited_nodes = paths_one_step_forward(paths, visited_nodes) #steps the algorithm\n",
    "          \n",
    "          # Here we extract solutions.\n",
    "          # The if condition generates a list of the last node in each path, then checks if it is the target\n",
    "          if target in [paths[index][1][-1] for index, i in enumerate(paths)]: # If there is a solution in paths.\n",
    "              \n",
    "              # The list comprehension pulls the paths that end in the target node\n",
    "              # In other words the for loop loops through the solutions in paths\n",
    "              for solution in [i for index, i in enumerate(paths) if paths[index][1][-1] == target]:\n",
    "\n",
    "                # Here we remove the source node from the beginning of solutions.\n",
    "                # It was important to \"nucleate\" them, but is unnecessary for the final solution.\n",
    "                solution = [solution[0], solution[1][1:len(solution[1])]] \n",
    "                if solution not in solutions: # Prevents appending any duplicates.\n",
    "                  solutions.append(solution)\n",
    "        \n",
    "        return solutions\n",
    "    \n",
    "    # Here we define a function that consolidates nodes into a single list with the associated labels while erasing edges.\n",
    "    # Labels are helpful to our use case because they can be used to separate nodes by the networks they are members of.\n",
    "    def nodes(self): \n",
    "        import pandas as pd\n",
    "\n",
    "        # First we erase Source/Target information (since we are erasing edges),\n",
    "        # and retain a messy \"Node\" list with duplicates and labels intact.\n",
    "        temp = pd.concat((edges[[\"Source\", \"Label\"]].rename(columns={\"Source\":\"Node\"}), \n",
    "          edges[[\"Target\", \"Label\"]].rename(columns={\"Target\":\"Node\"})))\n",
    "        \n",
    "        # Next we leverage groupby() to clean the messy list,\n",
    "        # creating a list of all of the unique nodes with all labels preserved together as a list.\n",
    "        nodes = temp.groupby(\"Node\")[\"Label\"].unique()\n",
    "\n",
    "        return nodes"
   ]
  },
  {
   "cell_type": "markdown",
   "id": "f05f8b4e",
   "metadata": {},
   "source": [
    "#### Application\n",
    "Finally, we apply the algorithm, finding all shortest paths in the network. We avoid starting searches with any of the associational nodes, these are just end points. Instead, we have the 'Base Network' as row indeces and use only these nodes as start points. Then we search from these nodes towards every other node."
   ]
  },
  {
   "cell_type": "code",
   "execution_count": 6,
   "id": "203deb52",
   "metadata": {},
   "outputs": [
    {
     "name": "stdout",
     "output_type": "stream",
     "text": [
      "Node\n",
      "BGP    [Base Network, Associational Network]\n",
      "BGR    [Base Network, Associational Network]\n",
      "BGW    [Base Network, Associational Network]\n",
      "BPG    [Base Network, Associational Network]\n",
      "BPR    [Base Network, Associational Network]\n",
      "Name: Label, dtype: object\n"
     ]
    }
   ],
   "source": [
    "aphelios = Network(edges) # Initiate the class instance for the Aphelios project.\n",
    "nodes = aphelios.nodes() # Extract the whole network as a list of nodes\n",
    "\n",
    "print(nodes.head())"
   ]
  },
  {
   "cell_type": "code",
   "execution_count": 22,
   "id": "9e34d560",
   "metadata": {},
   "outputs": [],
   "source": [
    "# Here we pull a list of nodes that are only part of the base network \n",
    "BaseNetwork = [nodes.index[index] for index, i in enumerate(nodes) if \"Base Network\" in i]\n",
    "WholeNetwork = nodes.index #and just the whole network\n",
    "\n",
    "# Here we create a df for the output where the base network is inputs, and whole network is outputs\n",
    "solutions = pd.DataFrame(data = None,\n",
    "                         index = BaseNetwork, #inputs\n",
    "                         columns = WholeNetwork) #outputs"
   ]
  },
  {
   "cell_type": "code",
   "execution_count": 23,
   "id": "4f27189d",
   "metadata": {},
   "outputs": [],
   "source": [
    "# Since path_finder() returns one solution at time, we iterate through the df one cell at a time.\n",
    "# To save on computation, we also include a skip for the main diagonal, where the row/column indexes refer to the \n",
    "#   same node and no search should be conducted.\n",
    "\n",
    "for i in range(solutions.shape[0]): # iterate through rows\n",
    "   for j in range(solutions.shape[1]): # iterate through columns\n",
    "        if(solutions.index[i] == solutions.columns[j]): # check if the start_node *is* the end_node (along the main diagonal)\n",
    "            solutions.iloc[i,j] = \"\" # if so impute a non-value instead\n",
    "        else:\n",
    "            solution = aphelios.path_find(solutions.index[i], solutions.columns[j]) # find the shortest paths\n",
    "            solutions.iloc[i,j] = solution # store the shortest paths"
   ]
  },
  {
   "cell_type": "markdown",
   "id": "f11f03b2",
   "metadata": {},
   "source": [
    "#### Final Output"
   ]
  },
  {
   "cell_type": "code",
   "execution_count": null,
   "id": "568f5727",
   "metadata": {},
   "outputs": [
    {
     "name": "stdout",
     "output_type": "stream",
     "text": [
      "Node                                                BGP\n",
      "BGP                                                    \n",
      "BGR                         [[4, [GRW, RWB, WBG, BGP]]]\n",
      "BGW                         [[4, [GWR, WRB, RBG, BGP]]]\n",
      "BPG   [[5, [PGR, GRW, RWB, WBG, BGP]], [5, [PGW, GWR...\n",
      "BPR                         [[4, [PRW, RWB, WBG, BGP]]]\n",
      "BPW                         [[4, [PWR, WRB, RBG, BGP]]]\n",
      "BRG                    [[5, [RGP, GPW, PWB, WBG, BGP]]]\n",
      "BRP                         [[4, [RPW, PWB, WBG, BGP]]]\n",
      "BRW               [[6, [RWG, WGP, GPR, PRB, RBG, BGP]]]\n",
      "BWG                    [[5, [WGP, GPR, PRB, RBG, BGP]]]\n"
     ]
    }
   ],
   "source": [
    "print(solutions.iloc[0:10,0:1]) # one column of the output \n",
    "solutions.to_csv(\"Aphelios_Paths.csv\")"
   ]
  },
  {
   "cell_type": "markdown",
   "id": "43e69324",
   "metadata": {},
   "source": [
    "#### One Final Note\n",
    "It will be helpful to convert these results into a more usable form. The following basically decodes the solutions into directions. The result will help instruct the Aphelios player on the order in which to deplete their weapons to achieve the desired end state."
   ]
  },
  {
   "cell_type": "code",
   "execution_count": 59,
   "id": "e58f4718",
   "metadata": {},
   "outputs": [],
   "source": [
    "methods = solutions.copy()\n",
    "\n",
    "for i in range(methods.shape[0]): # iterate through rows\n",
    "   for j in range(methods.shape[1]): # iterate through columns\n",
    "      solutions_set = (methods.iloc[i,j]) # pull the given set of solutions (often only 1 or 2, sometimes 3)\n",
    "      if solutions_set != \"\": # Check if it's an empty solution.\n",
    "        if len(solutions_set[0][1][-1])!=5: # Check if the final node is associational or base.\n",
    "\n",
    "        # If base...\n",
    "        # Iterate through the set of solutions, iterate through the nodes in that solution,\n",
    "        #   gather the last letters of each of the nodes compress them into a string,\n",
    "        #   then merge them back into a list of methods.\n",
    "          method = [''.join([node[-1] for node in solution[1]]) for solution in solutions_set]\n",
    "          methods.iloc[i,j] = method\n",
    "\n",
    "        # If associational...\n",
    "        # Do the same, except ignore the associational node at the end (i.e., [0:(len(solution[1])-1)]).\n",
    "        else:\n",
    "          method = [''.join([node[-1] for node in solution[1][0:(len(solution[1])-1)]]) for solution in solutions_set]\n",
    "          methods.iloc[i,j] = method"
   ]
  },
  {
   "cell_type": "code",
   "execution_count": null,
   "id": "f87bccfa",
   "metadata": {},
   "outputs": [
    {
     "name": "stdout",
     "output_type": "stream",
     "text": [
      "Node             BGP             BGR             BGW             BPG\n",
      "BGP                           [WBGR]          [RBGW]  [RWBPG, WRBPG]\n",
      "BGR           [WBGP]                          [PBGW]          [WBPG]\n",
      "BGW           [RBGP]          [PBGR]                          [RBPG]\n",
      "BPG   [RWBGP, WRBGP]         [RWBGR]         [WRBGW]                \n",
      "BPR           [WBGP]          [WBGR]        [GWPBGW]          [WBPG]\n",
      "BPW           [RBGP]        [GRPBGR]          [RBGW]          [RBPG]\n",
      "BRG          [PWBGP]  [PWBGR, WPBGR]         [WPBGW]          [WBPG]\n",
      "BRP           [WBGP]          [WBGR]        [GWRBGW]         [GWBPG]\n",
      "BRW         [GPRBGP]          [PBGR]          [PBGW]        [PGRBPG]\n",
      "BWG          [PRBGP]         [RPBGR]  [PRBGW, RPBGW]          [RBPG]\n"
     ]
    }
   ],
   "source": [
    "print(methods.iloc[0:10,0:4]) # a small portion of the output\n",
    "methods.to_csv(\"Aphelios_Methods.csv\")"
   ]
  }
 ],
 "metadata": {
  "kernelspec": {
   "display_name": "Python 3",
   "language": "python",
   "name": "python3"
  },
  "language_info": {
   "codemirror_mode": {
    "name": "ipython",
    "version": 3
   },
   "file_extension": ".py",
   "mimetype": "text/x-python",
   "name": "python",
   "nbconvert_exporter": "python",
   "pygments_lexer": "ipython3",
   "version": "3.10.0"
  }
 },
 "nbformat": 4,
 "nbformat_minor": 5
}
